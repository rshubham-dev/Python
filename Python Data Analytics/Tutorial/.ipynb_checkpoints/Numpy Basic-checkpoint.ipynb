{
 "cells": [
  {
   "cell_type": "code",
   "execution_count": 7,
   "id": "55b328d5-8de3-49de-9b7f-990ff4c6f70c",
   "metadata": {},
   "outputs": [],
   "source": [
    "import numpy as np"
   ]
  },
  {
   "cell_type": "code",
   "execution_count": 1,
   "id": "fcb4ea0b-c019-43c6-9929-2cccba19298a",
   "metadata": {},
   "outputs": [
    {
     "name": "stdout",
     "output_type": "stream",
     "text": [
      "[20, 30, 40, 20, 30, 40, 20, 30, 40, 20, 30, 40, 20, 30, 40]\n"
     ]
    }
   ],
   "source": [
    "# normal list.\n",
    "l1 = [20,30,40]\n",
    "l2 = 5\n",
    "print(l1*l2)"
   ]
  },
  {
   "cell_type": "code",
   "execution_count": 6,
   "id": "c43b2e6d-39f2-4e57-9bcb-b6afde66e5f3",
   "metadata": {},
   "outputs": [
    {
     "name": "stdout",
     "output_type": "stream",
     "text": [
      "[20 30 40]\n",
      "[60 70 80]\n"
     ]
    }
   ],
   "source": [
    "# numpy.array([]) array (list in python) created using numpy. \n",
    "a = np.array([20,30,40])\n",
    "b = np.array([60,70,80])\n",
    "print(a)\n",
    "print(b)"
   ]
  },
  {
   "cell_type": "code",
   "execution_count": 9,
   "id": "e8c5a5d3-a4bd-4e12-ade9-c33ac42b6497",
   "metadata": {},
   "outputs": [
    {
     "name": "stdout",
     "output_type": "stream",
     "text": [
      "[10 20 30 40]\n",
      "<class 'numpy.ndarray'>\n"
     ]
    }
   ],
   "source": [
    "# single dimensional array\n",
    "arr = np.array([10,20,30,40])\n",
    "print(arr)\n",
    "print(type(arr))"
   ]
  },
  {
   "cell_type": "code",
   "execution_count": 17,
   "id": "29a70e14-6539-4d92-b557-6f2c4b27f873",
   "metadata": {},
   "outputs": [
    {
     "name": "stdout",
     "output_type": "stream",
     "text": [
      "[[ 10  20  30  40]\n",
      " [ 50  60  70  80]\n",
      " [ 90 100 110 120]]\n",
      "<class 'numpy.ndarray'>\n"
     ]
    }
   ],
   "source": [
    "# multi dimensional array\n",
    "arr2 = np.array([[10,20,30,40],[50,60,70,80],[90,100,110,120]])\n",
    "print(arr2)\n",
    "print(type(arr2))"
   ]
  },
  {
   "cell_type": "code",
   "execution_count": 45,
   "id": "926eda51-d4b1-4c8f-9984-ae7508d8b01d",
   "metadata": {},
   "outputs": [
    {
     "name": "stdout",
     "output_type": "stream",
     "text": [
      "[10 20 30]\n"
     ]
    }
   ],
   "source": [
    "# used for slicing\n",
    "print(arr[0:3])"
   ]
  },
  {
   "cell_type": "code",
   "execution_count": 24,
   "id": "d120ec01-cb7f-4767-9bb7-9f6633b26b0d",
   "metadata": {},
   "outputs": [
    {
     "name": "stdout",
     "output_type": "stream",
     "text": [
      "[[10 20]\n",
      " [50 60]]\n"
     ]
    }
   ],
   "source": [
    "# slicing of multi-dimensional array\n",
    "print(arr2[0:2, 0:2])"
   ]
  },
  {
   "cell_type": "code",
   "execution_count": 40,
   "id": "6ca36a20-d687-4081-adff-00bcfb78ea29",
   "metadata": {},
   "outputs": [
    {
     "name": "stdout",
     "output_type": "stream",
     "text": [
      "[20 30]\n",
      "[70 80]\n",
      "[100 110 120]\n",
      "120\n"
     ]
    }
   ],
   "source": [
    "# slicing of multi-dimensional array element/value\n",
    "print(arr2[0, 1:3])\n",
    "print(arr2[1, 2:4])\n",
    "print(arr2[2, 1:4])\n",
    "print(arr2[2,3])"
   ]
  },
  {
   "cell_type": "code",
   "execution_count": 43,
   "id": "051f53f3-449c-4cce-8585-71101af34dea",
   "metadata": {},
   "outputs": [
    {
     "name": "stdout",
     "output_type": "stream",
     "text": [
      "(4,)\n",
      "(3, 4)\n"
     ]
    }
   ],
   "source": [
    "# .shape() prints total no of rows & column\n",
    "print(np.shape(arr))\n",
    "print(np.shape(arr2))"
   ]
  },
  {
   "cell_type": "code",
   "execution_count": 44,
   "id": "699e9241-8a1b-435f-96ee-9edb532a5aaa",
   "metadata": {},
   "outputs": [
    {
     "name": "stdout",
     "output_type": "stream",
     "text": [
      "4\n",
      "12\n"
     ]
    }
   ],
   "source": [
    "# .size() prints total no of elements\n",
    "print(np.size(arr))\n",
    "print(np.size(arr2))"
   ]
  },
  {
   "cell_type": "code",
   "execution_count": 46,
   "id": "5bd07dc4-d1a9-4a5a-ae2f-80ab8cfcb06e",
   "metadata": {},
   "outputs": [
    {
     "name": "stdout",
     "output_type": "stream",
     "text": [
      "1\n",
      "2\n"
     ]
    }
   ],
   "source": [
    "# .ndim() to print no. of dimension\n",
    "print(np.ndim(arr))\n",
    "print(np.ndim(arr2))"
   ]
  },
  {
   "cell_type": "code",
   "execution_count": 47,
   "id": "9091d9d3-b687-4250-b399-f2f20ae99d6f",
   "metadata": {},
   "outputs": [
    {
     "name": "stdout",
     "output_type": "stream",
     "text": [
      "int64\n",
      "int64\n"
     ]
    }
   ],
   "source": [
    "# .dtype to print data types\n",
    "print(arr.dtype)\n",
    "print(arr2.dtype)"
   ]
  },
  {
   "cell_type": "code",
   "execution_count": null,
   "id": "104ea6c7-4854-444f-8420-bc94e405667d",
   "metadata": {},
   "outputs": [],
   "source": []
  }
 ],
 "metadata": {
  "kernelspec": {
   "display_name": "Python 3 (ipykernel)",
   "language": "python",
   "name": "python3"
  },
  "language_info": {
   "codemirror_mode": {
    "name": "ipython",
    "version": 3
   },
   "file_extension": ".py",
   "mimetype": "text/x-python",
   "name": "python",
   "nbconvert_exporter": "python",
   "pygments_lexer": "ipython3",
   "version": "3.12.5"
  }
 },
 "nbformat": 4,
 "nbformat_minor": 5
}
