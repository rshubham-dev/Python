{
 "cells": [
  {
   "cell_type": "code",
   "execution_count": null,
   "id": "c63fed23-c88a-4980-a15c-4b51aa28ab89",
   "metadata": {},
   "outputs": [],
   "source": [
    "import numpy as np\n",
    "arr = np.array([10,20,30,40])\n",
    "arr1 = np.array([50,60,70,80])\n",
    "arr2 = np.array([[10,20,30,40],[50,60,70,80],[90,100,110,120]])"
   ]
  }
 ],
 "metadata": {
  "kernelspec": {
   "display_name": "Python 3 (ipykernel)",
   "language": "python",
   "name": "python3"
  },
  "language_info": {
   "codemirror_mode": {
    "name": "ipython",
    "version": 3
   },
   "file_extension": ".py",
   "mimetype": "text/x-python",
   "name": "python",
   "nbconvert_exporter": "python",
   "pygments_lexer": "ipython3",
   "version": "3.12.5"
  }
 },
 "nbformat": 4,
 "nbformat_minor": 5
}
