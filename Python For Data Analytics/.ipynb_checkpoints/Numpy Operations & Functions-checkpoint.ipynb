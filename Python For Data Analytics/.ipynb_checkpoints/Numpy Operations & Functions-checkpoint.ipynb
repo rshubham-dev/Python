{
 "cells": [
  {
   "cell_type": "code",
   "execution_count": 1,
   "id": "6f73d6fc-3c05-4e01-a2b8-8d139d174eb6",
   "metadata": {},
   "outputs": [],
   "source": [
    "import numpy as np"
   ]
  },
  {
   "cell_type": "code",
   "execution_count": 2,
   "id": "19cc0e9f-c0ec-4709-8631-ffc25645cc04",
   "metadata": {},
   "outputs": [],
   "source": [
    "arr = np.array([10,20,30,40])\n",
    "arr2 = np.array([[10,20,30,40],[50,60,70,80],[90,100,110,120]])"
   ]
  },
  {
   "cell_type": "code",
   "execution_count": 3,
   "id": "c394f38c-c234-4566-ac69-8b145ec0371b",
   "metadata": {},
   "outputs": [
    {
     "name": "stdout",
     "output_type": "stream",
     "text": [
      "[[ 20  40  60  80]\n",
      " [ 60  80 100 120]\n",
      " [100 120 140 160]]\n",
      "[[ 20  40  60  80]\n",
      " [ 60  80 100 120]\n",
      " [100 120 140 160]]\n"
     ]
    }
   ],
   "source": [
    "# (+) add operation to add two array\n",
    "print(arr + arr2)\n",
    "# .add() function to add two array\n",
    "print(np.add(arr,arr2))"
   ]
  },
  {
   "cell_type": "code",
   "execution_count": 4,
   "id": "7144c389-c1e4-444e-98bb-8229c22279a2",
   "metadata": {},
   "outputs": [
    {
     "name": "stdout",
     "output_type": "stream",
     "text": [
      "[[  0   0   0   0]\n",
      " [-40 -40 -40 -40]\n",
      " [-80 -80 -80 -80]]\n",
      "[[  0   0   0   0]\n",
      " [-40 -40 -40 -40]\n",
      " [-80 -80 -80 -80]]\n"
     ]
    }
   ],
   "source": [
    "# (-) subtract operation to subtract two array\n",
    "print(arr - arr2)\n",
    "# .subtract() function to subtract two array\n",
    "print(np.subtract(arr,arr2))"
   ]
  },
  {
   "cell_type": "code",
   "execution_count": 5,
   "id": "8fe322a9-f39f-4fda-8ff3-ca109c5b2337",
   "metadata": {},
   "outputs": [
    {
     "name": "stdout",
     "output_type": "stream",
     "text": [
      "[[ 100  400  900 1600]\n",
      " [ 500 1200 2100 3200]\n",
      " [ 900 2000 3300 4800]]\n",
      "[[ 100  400  900 1600]\n",
      " [ 500 1200 2100 3200]\n",
      " [ 900 2000 3300 4800]]\n"
     ]
    }
   ],
   "source": [
    "# (*) multiply operation to multiply two array\n",
    "print(arr * arr2)\n",
    "# .multiply() function to multiply two array\n",
    "print(np.multiply(arr,arr2))"
   ]
  },
  {
   "cell_type": "code",
   "execution_count": 6,
   "id": "f13af993-dc83-486a-b78c-da60dcafb966",
   "metadata": {},
   "outputs": [
    {
     "name": "stdout",
     "output_type": "stream",
     "text": [
      "[[1.         1.         1.         1.        ]\n",
      " [0.2        0.33333333 0.42857143 0.5       ]\n",
      " [0.11111111 0.2        0.27272727 0.33333333]]\n",
      "[[1.         1.         1.         1.        ]\n",
      " [0.2        0.33333333 0.42857143 0.5       ]\n",
      " [0.11111111 0.2        0.27272727 0.33333333]]\n"
     ]
    }
   ],
   "source": [
    "# (/) divide operation to divide two array\n",
    "print(arr / arr2)\n",
    "# .divide() function to divide two array\n",
    "print(np.divide(arr,arr2))"
   ]
  },
  {
   "cell_type": "code",
   "execution_count": 7,
   "id": "90f2a7ca-fff7-4cc5-88c0-d916721710d8",
   "metadata": {},
   "outputs": [
    {
     "name": "stdout",
     "output_type": "stream",
     "text": [
      "[[         10000000000 -2101438300051996672  2565992168703393792\n",
      "                     0]\n",
      " [-5376172055173529600                    0                    0\n",
      "                     0]\n",
      " [                   0                    0                    0\n",
      "                     0]]\n",
      "[[         10000000000 -2101438300051996672  2565992168703393792\n",
      "                     0]\n",
      " [-5376172055173529600                    0                    0\n",
      "                     0]\n",
      " [                   0                    0                    0\n",
      "                     0]]\n"
     ]
    }
   ],
   "source": [
    "# (**) power operation to find power of two array\n",
    "print(arr ** arr2)\n",
    "# .power() function to find power of two array\n",
    "print(np.power(arr,arr2))"
   ]
  },
  {
   "cell_type": "code",
   "execution_count": 8,
   "id": "5822d832-69f5-4228-a770-7d3684e9dca8",
   "metadata": {},
   "outputs": [
    {
     "name": "stdout",
     "output_type": "stream",
     "text": [
      "[3.16227766 4.47213595 5.47722558 6.32455532]\n"
     ]
    }
   ],
   "source": [
    "# .sqrt() function to find square root of array element\n",
    "print(np.sqrt(arr))"
   ]
  },
  {
   "cell_type": "code",
   "execution_count": null,
   "id": "9fbcbf32-6a9e-4d4e-a3af-235e119ba95c",
   "metadata": {},
   "outputs": [],
   "source": []
  },
  {
   "cell_type": "code",
   "execution_count": null,
   "id": "910ea990-95e0-48bf-a457-a3a285e9687b",
   "metadata": {},
   "outputs": [],
   "source": []
  },
  {
   "cell_type": "code",
   "execution_count": null,
   "id": "50b68385-4aa1-49a4-a57c-bd8ae7acfa59",
   "metadata": {},
   "outputs": [],
   "source": []
  },
  {
   "cell_type": "code",
   "execution_count": null,
   "id": "447e3d4d-1503-4538-bef4-be4cd5b5fcd7",
   "metadata": {},
   "outputs": [],
   "source": []
  },
  {
   "cell_type": "code",
   "execution_count": null,
   "id": "fd0f0aed-3348-4dc3-a98f-b401ccf50cd2",
   "metadata": {},
   "outputs": [],
   "source": []
  },
  {
   "cell_type": "code",
   "execution_count": null,
   "id": "4d298bee-ec4d-4cdb-838d-9e2c66ab6d5b",
   "metadata": {},
   "outputs": [],
   "source": []
  },
  {
   "cell_type": "code",
   "execution_count": null,
   "id": "e6879d01-74c3-4820-ab3d-a7464ea1f790",
   "metadata": {},
   "outputs": [],
   "source": []
  }
 ],
 "metadata": {
  "kernelspec": {
   "display_name": "Python 3 (ipykernel)",
   "language": "python",
   "name": "python3"
  },
  "language_info": {
   "codemirror_mode": {
    "name": "ipython",
    "version": 3
   },
   "file_extension": ".py",
   "mimetype": "text/x-python",
   "name": "python",
   "nbconvert_exporter": "python",
   "pygments_lexer": "ipython3",
   "version": "3.12.5"
  }
 },
 "nbformat": 4,
 "nbformat_minor": 5
}
